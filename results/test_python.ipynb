{
 "cells": [
  {
   "cell_type": "markdown",
   "metadata": {},
   "source": [
    "**Задание 0**"
   ]
  },
  {
   "cell_type": "markdown",
   "metadata": {},
   "source": [
    "Вероятность при любом конкретном броске остается 1/9. Ответ: 1/9 (0.111)"
   ]
  },
  {
   "cell_type": "code",
   "execution_count": 175,
   "metadata": {},
   "outputs": [],
   "source": [
    "import pandas as pd"
   ]
  },
  {
   "cell_type": "markdown",
   "metadata": {},
   "source": [
    "**Импортируем данные**"
   ]
  },
  {
   "cell_type": "code",
   "execution_count": 176,
   "metadata": {},
   "outputs": [
    {
     "data": {
      "text/html": [
       "<div>\n",
       "<style scoped>\n",
       "    .dataframe tbody tr th:only-of-type {\n",
       "        vertical-align: middle;\n",
       "    }\n",
       "\n",
       "    .dataframe tbody tr th {\n",
       "        vertical-align: top;\n",
       "    }\n",
       "\n",
       "    .dataframe thead th {\n",
       "        text-align: right;\n",
       "    }\n",
       "</style>\n",
       "<table border=\"1\" class=\"dataframe\">\n",
       "  <thead>\n",
       "    <tr style=\"text-align: right;\">\n",
       "      <th></th>\n",
       "      <th>Бренд</th>\n",
       "      <th>Предмет</th>\n",
       "      <th>Сезон</th>\n",
       "      <th>Коллекция</th>\n",
       "      <th>Наименование</th>\n",
       "      <th>Номенклатура</th>\n",
       "      <th>Размер</th>\n",
       "      <th>Склад</th>\n",
       "      <th>Поступления, шт.</th>\n",
       "      <th>Поступления, себестоимость</th>\n",
       "      <th>Заказано, шт.</th>\n",
       "      <th>Заказано, себестоимость</th>\n",
       "      <th>Выкупили, шт</th>\n",
       "      <th>Выкупили, руб</th>\n",
       "      <th>Текущий остаток, шт</th>\n",
       "      <th>ИП</th>\n",
       "    </tr>\n",
       "  </thead>\n",
       "  <tbody>\n",
       "    <tr>\n",
       "      <th>0</th>\n",
       "      <td>IvanovCase</td>\n",
       "      <td>Чехлы для телефонов</td>\n",
       "      <td>NaN</td>\n",
       "      <td>NaN</td>\n",
       "      <td>Силиконовый чехол на Айфон 4 / Айфон 4s (iPhon...</td>\n",
       "      <td>22740336</td>\n",
       "      <td>0</td>\n",
       "      <td>Подольск</td>\n",
       "      <td>0</td>\n",
       "      <td>0</td>\n",
       "      <td>0</td>\n",
       "      <td>0.00</td>\n",
       "      <td>1</td>\n",
       "      <td>195.11</td>\n",
       "      <td>24</td>\n",
       "      <td>ИП Иванов</td>\n",
       "    </tr>\n",
       "    <tr>\n",
       "      <th>1</th>\n",
       "      <td>IvanovCase</td>\n",
       "      <td>Чехлы для телефонов</td>\n",
       "      <td>NaN</td>\n",
       "      <td>NaN</td>\n",
       "      <td>Силиконовый чехол на Айфон 4 / Айфон 4s (iPhon...</td>\n",
       "      <td>22740336</td>\n",
       "      <td>0</td>\n",
       "      <td>Казань</td>\n",
       "      <td>0</td>\n",
       "      <td>0</td>\n",
       "      <td>1</td>\n",
       "      <td>179.64</td>\n",
       "      <td>1</td>\n",
       "      <td>195.11</td>\n",
       "      <td>32</td>\n",
       "      <td>ИП Иванов</td>\n",
       "    </tr>\n",
       "    <tr>\n",
       "      <th>2</th>\n",
       "      <td>IvanovCase</td>\n",
       "      <td>Чехлы для телефонов</td>\n",
       "      <td>NaN</td>\n",
       "      <td>NaN</td>\n",
       "      <td>Силиконовый чехол на Айфон 5 / Айфон 5S / Айфо...</td>\n",
       "      <td>22740339</td>\n",
       "      <td>0</td>\n",
       "      <td>Подольск</td>\n",
       "      <td>0</td>\n",
       "      <td>0</td>\n",
       "      <td>8</td>\n",
       "      <td>1365.28</td>\n",
       "      <td>3</td>\n",
       "      <td>511.97</td>\n",
       "      <td>99</td>\n",
       "      <td>ИП Иванов</td>\n",
       "    </tr>\n",
       "    <tr>\n",
       "      <th>3</th>\n",
       "      <td>IvanovCase</td>\n",
       "      <td>Чехлы для телефонов</td>\n",
       "      <td>NaN</td>\n",
       "      <td>NaN</td>\n",
       "      <td>Силиконовый чехол на Айфон 5 / Айфон 5S / Айфо...</td>\n",
       "      <td>22740339</td>\n",
       "      <td>0</td>\n",
       "      <td>Подольск</td>\n",
       "      <td>0</td>\n",
       "      <td>0</td>\n",
       "      <td>0</td>\n",
       "      <td>0.00</td>\n",
       "      <td>1</td>\n",
       "      <td>197.60</td>\n",
       "      <td>0</td>\n",
       "      <td>ИП Иванов</td>\n",
       "    </tr>\n",
       "    <tr>\n",
       "      <th>4</th>\n",
       "      <td>IvanovCase</td>\n",
       "      <td>Чехлы для телефонов</td>\n",
       "      <td>NaN</td>\n",
       "      <td>NaN</td>\n",
       "      <td>Силиконовый чехол на Айфон 5 / Айфон 5S / Айфо...</td>\n",
       "      <td>22740339</td>\n",
       "      <td>0</td>\n",
       "      <td>Казань</td>\n",
       "      <td>0</td>\n",
       "      <td>0</td>\n",
       "      <td>4</td>\n",
       "      <td>682.64</td>\n",
       "      <td>1</td>\n",
       "      <td>197.60</td>\n",
       "      <td>47</td>\n",
       "      <td>ИП Иванов</td>\n",
       "    </tr>\n",
       "    <tr>\n",
       "      <th>5</th>\n",
       "      <td>IvanovCase</td>\n",
       "      <td>Чехлы для телефонов</td>\n",
       "      <td>NaN</td>\n",
       "      <td>NaN</td>\n",
       "      <td>Силиконовый чехол на Айфон 6 / Айфон 6S (iPhon...</td>\n",
       "      <td>22740342</td>\n",
       "      <td>0</td>\n",
       "      <td>Подольск</td>\n",
       "      <td>0</td>\n",
       "      <td>0</td>\n",
       "      <td>1</td>\n",
       "      <td>127.24</td>\n",
       "      <td>0</td>\n",
       "      <td>0.00</td>\n",
       "      <td>0</td>\n",
       "      <td>ИП Иванов</td>\n",
       "    </tr>\n",
       "    <tr>\n",
       "      <th>6</th>\n",
       "      <td>IvanovCase</td>\n",
       "      <td>Чехлы для телефонов</td>\n",
       "      <td>NaN</td>\n",
       "      <td>NaN</td>\n",
       "      <td>Силиконовый чехол на Айфон 6 / Айфон 6S (iPhon...</td>\n",
       "      <td>22740342</td>\n",
       "      <td>0</td>\n",
       "      <td>Новосибирск</td>\n",
       "      <td>0</td>\n",
       "      <td>0</td>\n",
       "      <td>0</td>\n",
       "      <td>0.00</td>\n",
       "      <td>0</td>\n",
       "      <td>0.00</td>\n",
       "      <td>1</td>\n",
       "      <td>ИП Иванов</td>\n",
       "    </tr>\n",
       "    <tr>\n",
       "      <th>7</th>\n",
       "      <td>IvanovCase</td>\n",
       "      <td>Чехлы для телефонов</td>\n",
       "      <td>NaN</td>\n",
       "      <td>NaN</td>\n",
       "      <td>Силиконовый чехол на Айфон 6 / Айфон 6S (iPhon...</td>\n",
       "      <td>22740342</td>\n",
       "      <td>0</td>\n",
       "      <td>Казань</td>\n",
       "      <td>0</td>\n",
       "      <td>0</td>\n",
       "      <td>2</td>\n",
       "      <td>254.48</td>\n",
       "      <td>1</td>\n",
       "      <td>135.73</td>\n",
       "      <td>1079</td>\n",
       "      <td>ИП Иванов</td>\n",
       "    </tr>\n",
       "    <tr>\n",
       "      <th>8</th>\n",
       "      <td>IvanovCase</td>\n",
       "      <td>Чехлы для телефонов</td>\n",
       "      <td>NaN</td>\n",
       "      <td>NaN</td>\n",
       "      <td>Силиконовый чехол на Айфон 6 / Айфон 6S (iPhon...</td>\n",
       "      <td>22740342</td>\n",
       "      <td>0</td>\n",
       "      <td>Казань</td>\n",
       "      <td>0</td>\n",
       "      <td>0</td>\n",
       "      <td>2</td>\n",
       "      <td>254.48</td>\n",
       "      <td>0</td>\n",
       "      <td>0.00</td>\n",
       "      <td>0</td>\n",
       "      <td>ИП Иванов</td>\n",
       "    </tr>\n",
       "    <tr>\n",
       "      <th>9</th>\n",
       "      <td>IvanovCase</td>\n",
       "      <td>Чехлы для телефонов</td>\n",
       "      <td>NaN</td>\n",
       "      <td>NaN</td>\n",
       "      <td>Силиконовый чехол на Айфон 6 плюс / Айфон 6S п...</td>\n",
       "      <td>22740345</td>\n",
       "      <td>0</td>\n",
       "      <td>Подольск</td>\n",
       "      <td>0</td>\n",
       "      <td>0</td>\n",
       "      <td>1</td>\n",
       "      <td>161.68</td>\n",
       "      <td>0</td>\n",
       "      <td>0.00</td>\n",
       "      <td>0</td>\n",
       "      <td>ИП Иванов</td>\n",
       "    </tr>\n",
       "  </tbody>\n",
       "</table>\n",
       "</div>"
      ],
      "text/plain": [
       "        Бренд              Предмет Сезон Коллекция  \\\n",
       "0  IvanovCase  Чехлы для телефонов   NaN       NaN   \n",
       "1  IvanovCase  Чехлы для телефонов   NaN       NaN   \n",
       "2  IvanovCase  Чехлы для телефонов   NaN       NaN   \n",
       "3  IvanovCase  Чехлы для телефонов   NaN       NaN   \n",
       "4  IvanovCase  Чехлы для телефонов   NaN       NaN   \n",
       "5  IvanovCase  Чехлы для телефонов   NaN       NaN   \n",
       "6  IvanovCase  Чехлы для телефонов   NaN       NaN   \n",
       "7  IvanovCase  Чехлы для телефонов   NaN       NaN   \n",
       "8  IvanovCase  Чехлы для телефонов   NaN       NaN   \n",
       "9  IvanovCase  Чехлы для телефонов   NaN       NaN   \n",
       "\n",
       "                                        Наименование  Номенклатура  Размер  \\\n",
       "0  Силиконовый чехол на Айфон 4 / Айфон 4s (iPhon...      22740336       0   \n",
       "1  Силиконовый чехол на Айфон 4 / Айфон 4s (iPhon...      22740336       0   \n",
       "2  Силиконовый чехол на Айфон 5 / Айфон 5S / Айфо...      22740339       0   \n",
       "3  Силиконовый чехол на Айфон 5 / Айфон 5S / Айфо...      22740339       0   \n",
       "4  Силиконовый чехол на Айфон 5 / Айфон 5S / Айфо...      22740339       0   \n",
       "5  Силиконовый чехол на Айфон 6 / Айфон 6S (iPhon...      22740342       0   \n",
       "6  Силиконовый чехол на Айфон 6 / Айфон 6S (iPhon...      22740342       0   \n",
       "7  Силиконовый чехол на Айфон 6 / Айфон 6S (iPhon...      22740342       0   \n",
       "8  Силиконовый чехол на Айфон 6 / Айфон 6S (iPhon...      22740342       0   \n",
       "9  Силиконовый чехол на Айфон 6 плюс / Айфон 6S п...      22740345       0   \n",
       "\n",
       "         Склад  Поступления, шт.  Поступления, себестоимость  Заказано, шт.  \\\n",
       "0     Подольск                 0                           0              0   \n",
       "1       Казань                 0                           0              1   \n",
       "2     Подольск                 0                           0              8   \n",
       "3     Подольск                 0                           0              0   \n",
       "4       Казань                 0                           0              4   \n",
       "5     Подольск                 0                           0              1   \n",
       "6  Новосибирск                 0                           0              0   \n",
       "7       Казань                 0                           0              2   \n",
       "8       Казань                 0                           0              2   \n",
       "9     Подольск                 0                           0              1   \n",
       "\n",
       "   Заказано, себестоимость  Выкупили, шт  Выкупили, руб  Текущий остаток, шт  \\\n",
       "0                     0.00             1         195.11                   24   \n",
       "1                   179.64             1         195.11                   32   \n",
       "2                  1365.28             3         511.97                   99   \n",
       "3                     0.00             1         197.60                    0   \n",
       "4                   682.64             1         197.60                   47   \n",
       "5                   127.24             0           0.00                    0   \n",
       "6                     0.00             0           0.00                    1   \n",
       "7                   254.48             1         135.73                 1079   \n",
       "8                   254.48             0           0.00                    0   \n",
       "9                   161.68             0           0.00                    0   \n",
       "\n",
       "          ИП  \n",
       "0  ИП Иванов  \n",
       "1  ИП Иванов  \n",
       "2  ИП Иванов  \n",
       "3  ИП Иванов  \n",
       "4  ИП Иванов  \n",
       "5  ИП Иванов  \n",
       "6  ИП Иванов  \n",
       "7  ИП Иванов  \n",
       "8  ИП Иванов  \n",
       "9  ИП Иванов  "
      ]
     },
     "execution_count": 176,
     "metadata": {},
     "output_type": "execute_result"
    }
   ],
   "source": [
    "file_name = \"Данные для задания Python.xlsx\"\n",
    "\n",
    "sheet_num1 = \"Задание1\"\n",
    "\n",
    "reports = {\"ИП Иванов\":\"Отчет о продажах ИП Иванов\",\n",
    "           \"ИП Петров\": \"Отчет о продажах ИП Петров\",\n",
    "           \"ИП Сидоров\": \"Отчет о продажах ИП Сидоров\"}\n",
    "\n",
    "# Лист с заданием 1\n",
    "df_num1 = pd.read_excel(file_name, sheet_name=sheet_num1)\n",
    "\n",
    "dfs = []\n",
    "\n",
    "# Загрузка отчетов всех ИП в единый df\n",
    "for IP, sheet in reports.items():\n",
    "    df = pd.read_excel(file_name, sheet_name=sheet, header=1)\n",
    "    df['ИП'] = IP\n",
    "    dfs.append(df)\n",
    "\n",
    "df_sales = pd.concat(dfs)\n",
    "\n",
    "df_sales = df_sales.rename(columns={\"шт\": \"Поступления, шт.\",\n",
    "                          \"шт.1\": \"Заказано, шт.\",\n",
    "                          \"себестоимость\": \"Поступления, себестоимость\",\n",
    "                          \"себестоимость.1\": \"Заказано, себестоимость\"}\n",
    "                          )\n",
    "\n",
    "df_sales.head(10)"
   ]
  },
  {
   "cell_type": "code",
   "execution_count": 177,
   "metadata": {},
   "outputs": [
    {
     "name": "stdout",
     "output_type": "stream",
     "text": [
      "<class 'pandas.core.frame.DataFrame'>\n",
      "Index: 35740 entries, 0 to 5927\n",
      "Data columns (total 16 columns):\n",
      " #   Column                      Non-Null Count  Dtype  \n",
      "---  ------                      --------------  -----  \n",
      " 0   Бренд                       35740 non-null  object \n",
      " 1   Предмет                     35740 non-null  object \n",
      " 2   Сезон                       24 non-null     object \n",
      " 3   Коллекция                   70 non-null     object \n",
      " 4   Наименование                35740 non-null  object \n",
      " 5   Номенклатура                35740 non-null  int64  \n",
      " 6   Размер                      35740 non-null  int64  \n",
      " 7   Склад                       35740 non-null  object \n",
      " 8   Поступления, шт.            35740 non-null  int64  \n",
      " 9   Поступления, себестоимость  35740 non-null  int64  \n",
      " 10  Заказано, шт.               35740 non-null  int64  \n",
      " 11  Заказано, себестоимость     35740 non-null  float64\n",
      " 12  Выкупили, шт                35740 non-null  int64  \n",
      " 13  Выкупили, руб               35740 non-null  float64\n",
      " 14  Текущий остаток, шт         35740 non-null  int64  \n",
      " 15  ИП                          35740 non-null  object \n",
      "dtypes: float64(2), int64(7), object(7)\n",
      "memory usage: 4.6+ MB\n"
     ]
    }
   ],
   "source": [
    "# Обзор колонок и типов данных в общей таблице по всем ИП\n",
    "df_sales.info()"
   ]
  },
  {
   "cell_type": "code",
   "execution_count": 178,
   "metadata": {},
   "outputs": [
    {
     "data": {
      "text/plain": [
       "Номенклатура\n",
       "True    6623\n",
       "Name: count, dtype: int64"
      ]
     },
     "execution_count": 178,
     "metadata": {},
     "output_type": "execute_result"
    }
   ],
   "source": [
    "# Для корректной обработки приводим все к строковому типу\n",
    "df_num1['Номенклатура'] = df_num1['Номенклатура'].astype(str).str.strip()\n",
    "df_sales['Номенклатура'] = df_sales['Номенклатура'].astype(str).str.strip()\n",
    "\n",
    "# Проверка столбца на пропущенные значения\n",
    "df_num1['Номенклатура'].notna().value_counts()"
   ]
  },
  {
   "cell_type": "markdown",
   "metadata": {},
   "source": [
    "**Определяем, к какому ИП относится номенклатура**"
   ]
  },
  {
   "cell_type": "code",
   "execution_count": 179,
   "metadata": {},
   "outputs": [
    {
     "data": {
      "text/plain": [
       "ИП\n",
       "-                       2254\n",
       "ИП Иванов               2227\n",
       "ИП Петров               2032\n",
       "ИП Сидоров               109\n",
       "ИП Иванов, ИП Петров       1\n",
       "Name: count, dtype: int64"
      ]
     },
     "execution_count": 179,
     "metadata": {},
     "output_type": "execute_result"
    }
   ],
   "source": [
    "# Временный df для сопоставления номенклатур с ИП\n",
    "df_lookup = df_sales[['Номенклатура', 'ИП']].drop_duplicates()\n",
    "\n",
    "# Группировка по номенклатуре. Если номенклатура встречается сразу у нескольких ИП, пишем всех через запятую\n",
    "lookup_agg = df_lookup.groupby(\"Номенклатура\")[\"ИП\"].agg(lambda x: ', '.join(sorted(x.unique()))).reset_index()\n",
    "\n",
    "# Удаляем пустой столбец ИП, чтобы в итговом df был только один столбец с таким названием\n",
    "df_num1 = df_num1.drop(columns=\"ИП\")\n",
    "\n",
    "# Основной df о списком номенклатур\n",
    "df_num1 = df_num1.merge(lookup_agg, on='Номенклатура', how='left')\n",
    "df_num1['ИП'] = df_num1['ИП'].fillna(\"-\")\n",
    "\n",
    "# Смотрим сводный результат по кол-ву номенклатур для каждого ИП\n",
    "df_num1['ИП'].value_counts()"
   ]
  },
  {
   "cell_type": "markdown",
   "metadata": {},
   "source": [
    "**Считаем кол-во заказов по каждой номенклатуре**"
   ]
  },
  {
   "cell_type": "code",
   "execution_count": 180,
   "metadata": {},
   "outputs": [],
   "source": [
    "# СЧитаем кол-во заказов по номенклатурам\n",
    "orders_by_nom = (df_sales.groupby(\"Номенклатура\")[\"Заказано, шт.\"].sum().rename(\"Заказано, шт.\").reset_index())\n",
    "\n",
    "# Добавляем к основному df кол-во заказов по номенклатурам\n",
    "df_num1 = df_num1.merge(orders_by_nom, on=\"Номенклатура\", how=\"left\")\n",
    "df_num1[\"Заказано, шт.\"] = df_num1[\"Заказано, шт.\"].fillna(0).astype(int)"
   ]
  },
  {
   "cell_type": "markdown",
   "metadata": {},
   "source": [
    "**Подсчет выручки по каждой номенклатуре**"
   ]
  },
  {
   "cell_type": "code",
   "execution_count": 181,
   "metadata": {},
   "outputs": [],
   "source": [
    "# Выручка по номенклатурам\n",
    "revenue_by_nom = (df_sales.groupby(\"Номенклатура\")[\"Заказано, себестоимость\"].sum().rename(\"Заказано, себестоимость\").reset_index())\n",
    "\n",
    "revenue_by_nom[\"Выручка, руб.\"] = revenue_by_nom[\"Заказано, себестоимость\"] / 0.83\n",
    "\n",
    "df_num1 = df_num1.drop(columns=\"Выручка, руб.\")\n",
    "\n",
    "df_num1 = df_num1.merge(revenue_by_nom[[\"Номенклатура\", \"Выручка, руб.\"]], on=\"Номенклатура\", how=\"left\")\n",
    "df_num1[\"Выручка, руб.\"] = df_num1[\"Выручка, руб.\"].fillna(0)"
   ]
  },
  {
   "cell_type": "markdown",
   "metadata": {},
   "source": [
    "**Подсчет прибыли по каждой номенклатуре**"
   ]
  },
  {
   "cell_type": "code",
   "execution_count": 182,
   "metadata": {},
   "outputs": [],
   "source": [
    "nds = {\"ИП Иванов\": 0.01, \"ИП Петров\": 0.03, \"ИП Сидоров\": 0.05}\n",
    "\n",
    "# Загружаем таблицам с себестоимостями и справочником\n",
    "df_cost = pd.read_excel(file_name, sheet_name=\"Себестоимость\")\n",
    "df_catalog = pd.read_excel(file_name, sheet_name=\"Справочник\")\n",
    "\n",
    "df_catalog['Номенклатура'] = df_catalog['Номенклатура'].astype(str)\n",
    "\n",
    "# Объединяем фиксированные затраты по категориям с основным df\n",
    "df_num1 = df_num1.merge(df_catalog, on=\"Номенклатура\", how=\"left\")\n",
    "df_num1 = df_num1.merge(df_cost, on='Категория', how='left')\n",
    "\n",
    "# Минимальные затраты из таблицы с себестоимостями\n",
    "min_fixed_cost = df_cost['Фиксированные затраты, руб./шт.'].min()\n",
    "df_num1['Фиксированные затраты, руб./шт.'] = df_num1['Фиксированные затраты, руб./шт.'].fillna(min_fixed_cost)\n",
    "\n",
    "df_num1['Налог'] = df_num1['Выручка, руб.'] * df_num1['ИП'].map(nds).fillna(0)\n",
    "df_num1['Комиссия'] = df_num1['Выручка, руб.'] * 0.17\n",
    "df_num1['Затраты'] = df_num1['Фиксированные затраты, руб./шт.'] * df_num1['Заказано, шт.']\n",
    "\n",
    "# Подсчет прибыли\n",
    "df_num1['Прибыль, руб.'] = (\n",
    "    df_num1['Выручка, руб.'] - df_num1['Комиссия'] - df_num1['Налог'] - df_num1['Затраты']\n",
    ")\n",
    "\n",
    "# Округление для отчета\n",
    "df_num1['Выручка, руб.'] = df_num1['Выручка, руб.'].round(2)\n",
    "df_num1['Прибыль, руб.'] = df_num1['Прибыль, руб.'].round(2)"
   ]
  },
  {
   "cell_type": "markdown",
   "metadata": {},
   "source": [
    "**Подсчет рентабельности по каждой номенклатуре**"
   ]
  },
  {
   "cell_type": "code",
   "execution_count": 183,
   "metadata": {},
   "outputs": [
    {
     "data": {
      "text/plain": [
       "Выручка, руб.\n",
       "False    6623\n",
       "Name: count, dtype: int64"
      ]
     },
     "execution_count": 183,
     "metadata": {},
     "output_type": "execute_result"
    }
   ],
   "source": [
    "# Проверяем, есть ли пустые значения\n",
    "df_num1['Выручка, руб.'].isna().value_counts()"
   ]
  },
  {
   "cell_type": "code",
   "execution_count": 184,
   "metadata": {},
   "outputs": [],
   "source": [
    "df_num1['Рентабельность, %'] = (\n",
    "    df_num1['Прибыль, руб.'] / df_num1['Выручка, руб.']\n",
    ").fillna(0) * 100\n",
    "\n",
    "# Округление для отчета\n",
    "df_num1['Рентабельность, %'] = df_num1['Рентабельность, %'].round(2)"
   ]
  },
  {
   "cell_type": "markdown",
   "metadata": {},
   "source": [
    "**Экспорт таблицы**"
   ]
  },
  {
   "cell_type": "code",
   "execution_count": 186,
   "metadata": {},
   "outputs": [],
   "source": [
    "df_num1['Заказы, шт.'] = df_num1['Заказано, шт.']\n",
    "\n",
    "df_res = df_num1[['Номенклатура', 'ИП', 'Заказы, шт.', 'Выручка, руб.', 'Прибыль, руб.', 'Рентабельность, %']]\n",
    "df_res.to_excel('Задание 1.xlsx', sheet_name='Таблица', index=False)"
   ]
  },
  {
   "cell_type": "markdown",
   "metadata": {},
   "source": [
    "**Сводная таблица по ИП**"
   ]
  },
  {
   "cell_type": "code",
   "execution_count": 188,
   "metadata": {},
   "outputs": [
    {
     "data": {
      "text/html": [
       "<div>\n",
       "<style scoped>\n",
       "    .dataframe tbody tr th:only-of-type {\n",
       "        vertical-align: middle;\n",
       "    }\n",
       "\n",
       "    .dataframe tbody tr th {\n",
       "        vertical-align: top;\n",
       "    }\n",
       "\n",
       "    .dataframe thead th {\n",
       "        text-align: right;\n",
       "    }\n",
       "</style>\n",
       "<table border=\"1\" class=\"dataframe\">\n",
       "  <thead>\n",
       "    <tr style=\"text-align: right;\">\n",
       "      <th></th>\n",
       "      <th>ИП</th>\n",
       "      <th>Заказы, шт.</th>\n",
       "      <th>Выручка, руб.</th>\n",
       "      <th>Прибыль, руб.</th>\n",
       "    </tr>\n",
       "  </thead>\n",
       "  <tbody>\n",
       "    <tr>\n",
       "      <th>0</th>\n",
       "      <td>-</td>\n",
       "      <td>0</td>\n",
       "      <td>0.00</td>\n",
       "      <td>0.00</td>\n",
       "    </tr>\n",
       "    <tr>\n",
       "      <th>1</th>\n",
       "      <td>ИП Иванов</td>\n",
       "      <td>1078</td>\n",
       "      <td>238766.31</td>\n",
       "      <td>10048.68</td>\n",
       "    </tr>\n",
       "    <tr>\n",
       "      <th>2</th>\n",
       "      <td>ИП Иванов, ИП Петров</td>\n",
       "      <td>0</td>\n",
       "      <td>0.00</td>\n",
       "      <td>0.00</td>\n",
       "    </tr>\n",
       "    <tr>\n",
       "      <th>3</th>\n",
       "      <td>ИП Петров</td>\n",
       "      <td>441</td>\n",
       "      <td>119762.71</td>\n",
       "      <td>7680.01</td>\n",
       "    </tr>\n",
       "    <tr>\n",
       "      <th>4</th>\n",
       "      <td>ИП Сидоров</td>\n",
       "      <td>15</td>\n",
       "      <td>3185.27</td>\n",
       "      <td>64.10</td>\n",
       "    </tr>\n",
       "  </tbody>\n",
       "</table>\n",
       "</div>"
      ],
      "text/plain": [
       "                     ИП  Заказы, шт.  Выручка, руб.  Прибыль, руб.\n",
       "0                     -            0           0.00           0.00\n",
       "1             ИП Иванов         1078      238766.31       10048.68\n",
       "2  ИП Иванов, ИП Петров            0           0.00           0.00\n",
       "3             ИП Петров          441      119762.71        7680.01\n",
       "4            ИП Сидоров           15        3185.27          64.10"
      ]
     },
     "execution_count": 188,
     "metadata": {},
     "output_type": "execute_result"
    }
   ],
   "source": [
    "# Сводная таблица по ИП с reset_index для корректного отображения названий столбцов\n",
    "agg_df = df_res.groupby('ИП').agg({'Заказы, шт.': 'sum', 'Выручка, руб.': 'sum', 'Прибыль, руб.': 'sum'}).reset_index()\n",
    "\n",
    "agg_df"
   ]
  }
 ],
 "metadata": {
  "kernelspec": {
   "display_name": ".venv",
   "language": "python",
   "name": "python3"
  },
  "language_info": {
   "codemirror_mode": {
    "name": "ipython",
    "version": 3
   },
   "file_extension": ".py",
   "mimetype": "text/x-python",
   "name": "python",
   "nbconvert_exporter": "python",
   "pygments_lexer": "ipython3",
   "version": "3.12.6"
  }
 },
 "nbformat": 4,
 "nbformat_minor": 2
}
